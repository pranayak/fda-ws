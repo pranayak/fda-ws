{
 "cells": [
  {
   "cell_type": "code",
   "execution_count": null,
   "metadata": {},
   "outputs": [
    {
     "name": "stdout",
     "output_type": "stream",
     "text": [
      " * Serving Flask app '__main__'\n",
      " * Debug mode: on\n"
     ]
    },
    {
     "name": "stderr",
     "output_type": "stream",
     "text": [
      "WARNING: This is a development server. Do not use it in a production deployment. Use a production WSGI server instead.\n",
      " * Running on http://127.0.0.1:5000\n",
      "Press CTRL+C to quit\n"
     ]
    }
   ],
   "source": [
    "from flask import Flask, render_template, jsonify, request, send_file\n",
    "import requests\n",
    "from bs4 import BeautifulSoup\n",
    "import datetime\n",
    "import csv\n",
    "import pandas as pd\n",
    "import subprocess\n",
    "import json\n",
    "\n",
    "app = Flask(__name__)\n",
    "\n",
    "#latest_approvals = []\n",
    "last_refresh_time = None\n",
    "\n",
    "\n",
    "def refresh_data():\n",
    "    global last_refresh_time\n",
    "    last_refresh_time = datetime.datetime.now().strftime(\"%Y-%m-%d %H:%M:%S\")\n",
    "    \"\"\"Runs the web scraping scripts on button click\"\"\"\n",
    "    try:\n",
    "        subprocess.run(\"python webscrapping_url1.py\", shell=True, check=False)\n",
    "        subprocess.run(\"python webscrapping_url2.py\", shell=True, check=False)\n",
    "        return jsonify({\"status\": \"success\", \"last_refresh_time\": last_refresh_time})\n",
    "    except Exception as e:\n",
    "        return print(e)\n",
    "        #return jsonify({\"status\": \"error\", \"message\": str(e)})\n",
    "\n",
    "#refresh_data()\n",
    "\n",
    "def read_json_file():\n",
    "    \"\"\"Read top 5 rows from the CSV file\"\"\"\n",
    "    data = []\n",
    "    try:\n",
    "        #with open(\"latest_data_for_download.csv\", \"r\") as file:\n",
    "        #reader = pd.read_json('config_file_cancer_type_v1.json')\n",
    "        file_path = \"final_output_json_master_sample.json\"\n",
    "        with open(file_path, 'r') as file:\n",
    "            reader = json.load(file)\n",
    "        print('Data size',reader)\n",
    "        return reader\n",
    "            # for i, row in enumerate(reader):\n",
    "            #     if i >= 5:  # Limit to top 5 rows\n",
    "            #         break\n",
    "            #     data.append(row)\n",
    "    except Exception as e:\n",
    "        print(f\"Error reading CSV: {e}\")\n",
    "    \n",
    "    return data\n",
    "\n",
    "# @app.route(\"/\")\n",
    "# def index():\n",
    "#     \"\"\"Render HTML page with scraped data\"\"\"\n",
    "#     return render_template(\"index.html\", records=latest_approvals, last_refresh_time=last_refresh_time)\n",
    "\n",
    "\n",
    "@app.route(\"/\")\n",
    "def index():\n",
    "    sample_data = read_json_file()\n",
    "    return render_template(\"index.html\", records=sample_data, ast_refresh_time=last_refresh_time)\n",
    "\n",
    "\n",
    "@app.route(\"/refresh\", methods=[\"POST\"])\n",
    "def refresh():\n",
    "    \"\"\"Refresh scraped data\"\"\"\n",
    "    #scrape_data()\n",
    "    refresh_data()\n",
    "    return jsonify({\"status\": \"success\", \"last_refresh_time\": last_refresh_time})\n",
    "\n",
    "@app.route(\"/download\")\n",
    "def download():\n",
    "    \"\"\"Generate and return a CSV file\"\"\"\n",
    "    filename = \"latest_combined_data_output.csv\"\n",
    "    file_path = \"final_output_json_master.json\"\n",
    "    with open(file_path, 'r') as file:\n",
    "        latest_approvals_df = json.load(file)\n",
    "    with open(filename, \"w\", newline=\"\") as file:\n",
    "        writer = csv.writer(file)\n",
    "        writer.writerow(['index','AA_Date','Drug_Name','Brand_Name','Active_Ingredient','Approved_Indication','Company_name','Relevant Expedited Programs','Approval_Details','Efficacy and Safety','Broad_Tumor','Biomarker','url_name'])\n",
    "        for record in latest_approvals_df:\n",
    "            writer.writerow([record[\"index\"], record[\"AA_Date\"], record[\"Drug_Name\"], record[\"Brand_Name\"],record[\"Active_Ingredient\"], record[\"Company_name\"]])\n",
    "            #\n",
    "    return send_file(filename, as_attachment=True)\n",
    "\n",
    "if __name__ == \"__main__\":\n",
    "    app.run(debug=True, use_reloader=False)"
   ]
  },
  {
   "cell_type": "code",
   "execution_count": null,
   "metadata": {},
   "outputs": [],
   "source": []
  }
 ],
 "metadata": {
  "kernelspec": {
   "display_name": "Python 3 (ipykernel)",
   "language": "python",
   "name": "python3"
  },
  "language_info": {
   "codemirror_mode": {
    "name": "ipython",
    "version": 3
   },
   "file_extension": ".py",
   "mimetype": "text/x-python",
   "name": "python",
   "nbconvert_exporter": "python",
   "pygments_lexer": "ipython3",
   "version": "3.11.5"
  }
 },
 "nbformat": 4,
 "nbformat_minor": 2
}
